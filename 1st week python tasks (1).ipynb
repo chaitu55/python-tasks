{
 "cells": [
  {
   "cell_type": "code",
   "execution_count": 1,
   "id": "8ecd7bd1",
   "metadata": {},
   "outputs": [
    {
     "name": "stdout",
     "output_type": "stream",
     "text": [
      "Welcome to Day1 python fundamentals\n"
     ]
    }
   ],
   "source": [
    "print(\"Welcome to Day1 python fundamentals\")"
   ]
  },
  {
   "cell_type": "code",
   "execution_count": 2,
   "id": "c893387b",
   "metadata": {},
   "outputs": [],
   "source": [
    "#day 2"
   ]
  },
  {
   "cell_type": "code",
   "execution_count": 3,
   "id": "a50ac136",
   "metadata": {},
   "outputs": [],
   "source": [
    "#variables"
   ]
  },
  {
   "cell_type": "code",
   "execution_count": 10,
   "id": "41b63b13",
   "metadata": {},
   "outputs": [],
   "source": [
    "name1='chaitu'"
   ]
  },
  {
   "cell_type": "code",
   "execution_count": 11,
   "id": "397328fc",
   "metadata": {},
   "outputs": [
    {
     "name": "stdout",
     "output_type": "stream",
     "text": [
      "chaitu\n"
     ]
    }
   ],
   "source": [
    "print(name1)"
   ]
  },
  {
   "cell_type": "code",
   "execution_count": 6,
   "id": "7e6f1f2f",
   "metadata": {},
   "outputs": [],
   "source": [
    "name=\"manu\""
   ]
  },
  {
   "cell_type": "code",
   "execution_count": 7,
   "id": "7c03e08d",
   "metadata": {},
   "outputs": [
    {
     "name": "stdout",
     "output_type": "stream",
     "text": [
      "manu\n"
     ]
    }
   ],
   "source": [
    "print(name)"
   ]
  },
  {
   "cell_type": "code",
   "execution_count": 12,
   "id": "93bbf7b0",
   "metadata": {},
   "outputs": [],
   "source": [
    "# Day3\n",
    " #strings"
   ]
  },
  {
   "cell_type": "code",
   "execution_count": 13,
   "id": "c922a396",
   "metadata": {},
   "outputs": [],
   "source": [
    "full_name='raja manohar'"
   ]
  },
  {
   "cell_type": "code",
   "execution_count": 14,
   "id": "e7d40b8d",
   "metadata": {},
   "outputs": [
    {
     "name": "stdout",
     "output_type": "stream",
     "text": [
      "raja manohar\n"
     ]
    }
   ],
   "source": [
    "print(full_name)"
   ]
  },
  {
   "cell_type": "code",
   "execution_count": 21,
   "id": "a21d459b",
   "metadata": {},
   "outputs": [
    {
     "name": "stdout",
     "output_type": "stream",
     "text": [
      "Raja Manohar\n"
     ]
    }
   ],
   "source": [
    "print(full_name.title())"
   ]
  },
  {
   "cell_type": "code",
   "execution_count": 16,
   "id": "6d41a895",
   "metadata": {},
   "outputs": [
    {
     "name": "stdout",
     "output_type": "stream",
     "text": [
      "RAJA MANOHAR\n"
     ]
    }
   ],
   "source": [
    "print(full_name.upper())"
   ]
  },
  {
   "cell_type": "code",
   "execution_count": 18,
   "id": "b7d25a8b",
   "metadata": {},
   "outputs": [
    {
     "name": "stdout",
     "output_type": "stream",
     "text": [
      "raja manohar\n"
     ]
    }
   ],
   "source": [
    "print(full_name.lower())"
   ]
  },
  {
   "cell_type": "code",
   "execution_count": 19,
   "id": "22c642b2",
   "metadata": {},
   "outputs": [],
   "source": [
    "#fstrings"
   ]
  },
  {
   "cell_type": "code",
   "execution_count": 25,
   "id": "58518fc7",
   "metadata": {},
   "outputs": [],
   "source": [
    "firstname='rithvik'"
   ]
  },
  {
   "cell_type": "code",
   "execution_count": 26,
   "id": "a28fec76",
   "metadata": {},
   "outputs": [],
   "source": [
    "lastname='varma'"
   ]
  },
  {
   "cell_type": "code",
   "execution_count": 29,
   "id": "64f71f62",
   "metadata": {},
   "outputs": [],
   "source": [
    "fullname=f\"{firstname} {lastname}\""
   ]
  },
  {
   "cell_type": "code",
   "execution_count": 30,
   "id": "e6ef99fb",
   "metadata": {},
   "outputs": [
    {
     "name": "stdout",
     "output_type": "stream",
     "text": [
      "rithvik varma\n"
     ]
    }
   ],
   "source": [
    "print(fullname)"
   ]
  },
  {
   "cell_type": "code",
   "execution_count": 31,
   "id": "4aec9a06",
   "metadata": {},
   "outputs": [],
   "source": [
    "message=f\"keep up the good work, {fullname.title()}\""
   ]
  },
  {
   "cell_type": "code",
   "execution_count": 32,
   "id": "6a53ef24",
   "metadata": {},
   "outputs": [
    {
     "name": "stdout",
     "output_type": "stream",
     "text": [
      "keep up the good work, Rithvik Varma\n"
     ]
    }
   ],
   "source": [
    "print(message)"
   ]
  },
  {
   "cell_type": "code",
   "execution_count": null,
   "id": "a7c1bcc4",
   "metadata": {},
   "outputs": [],
   "source": []
  }
 ],
 "metadata": {
  "kernelspec": {
   "display_name": "Python 3 (ipykernel)",
   "language": "python",
   "name": "python3"
  },
  "language_info": {
   "codemirror_mode": {
    "name": "ipython",
    "version": 3
   },
   "file_extension": ".py",
   "mimetype": "text/x-python",
   "name": "python",
   "nbconvert_exporter": "python",
   "pygments_lexer": "ipython3",
   "version": "3.9.7"
  }
 },
 "nbformat": 4,
 "nbformat_minor": 5
}
